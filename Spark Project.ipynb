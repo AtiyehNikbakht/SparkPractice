{
 "cells": [
  {
   "cell_type": "markdown",
   "metadata": {
    "colab": {
     "base_uri": "https://localhost:8080/",
     "height": 433
    },
    "id": "XxJ3ndXa-9IE",
    "outputId": "d39d87d5-0f2b-408e-986f-c3c8e0ff87b0",
    "scrolled": false
   },
   "source": [
    "# Defining Required Libraries and List of 50 movies"
   ]
  },
  {
   "cell_type": "code",
   "execution_count": 16,
   "metadata": {},
   "outputs": [],
   "source": [
    "import pyspark\n",
    "from pyspark.sql import SparkSession\n",
    "\n",
    "myList = ['Kigdom', 'Squid Game', 'See', 'Game of Thrones', 'Vikings', 'Peaky Blinders', 'The Queens Gambit', 'Delhi Crime',\n",
    "          'Breathe(hindi)', 'Breaking Bad', 'Chernobyl', 'The Night Of', 'Patrick Melrose', 'Walking Dead', 'Rick & Morty',\n",
    "          'Mortal Wound', 'Moana', 'Solar Opposites', 'Soul', 'Monsters University', 'Money Heist', 'Goblin', 'Wish Dragon',\n",
    "          'Minions', 'The Mitchells vs. the Machines', 'Mr. Queen', 'Dexter', 'Shameless', 'Mr. Robot','Monsters, Inc.',\n",
    "          'Hannibal', 'The Witcher', 'Lucifer', 'Dark', 'Better call Saul', 'The 100', 'The Maze Runner', 'Shrek', 'Tangled',\n",
    "          'Pirates of the Caribbean', 'Coco', 'Zootropolis', 'Sing', 'Hotel Transylvania', 'Harry Potter', 'Pasta', 'Heirs',\n",
    "          'Twenty', 'The Twilight Saga', 'Chicken Little']\n"
   ]
  },
  {
   "cell_type": "markdown",
   "metadata": {},
   "source": [
    "# Defining Spark Session and Converting list to RDD"
   ]
  },
  {
   "cell_type": "code",
   "execution_count": 3,
   "metadata": {},
   "outputs": [
    {
     "data": {
      "text/plain": [
       "ParallelCollectionRDD[1] at readRDDFromFile at PythonRDD.scala:274"
      ]
     },
     "execution_count": 3,
     "metadata": {},
     "output_type": "execute_result"
    }
   ],
   "source": [
    "spark = SparkSession.builder.appName('SparkPractice').getOrCreate()\n",
    "sc = spark.sparkContext\n",
    "rdd = sc.parallelize(myList)"
   ]
  },
  {
   "cell_type": "markdown",
   "metadata": {},
   "source": [
    "# Finding list's 20th item by filter function"
   ]
  },
  {
   "cell_type": "code",
   "execution_count": 6,
   "metadata": {},
   "outputs": [
    {
     "name": "stdout",
     "output_type": "stream",
     "text": [
      "Result is: ['Monsters University']\n"
     ]
    }
   ],
   "source": [
    "twentiethItem = rdd.filter(lambda x: myList[19] in x).collect()\n",
    "print(\"Result is:\" , twentiethItem)"
   ]
  },
  {
   "cell_type": "markdown",
   "metadata": {},
   "source": [
    "# Converting all letter of items to capital letters"
   ]
  },
  {
   "cell_type": "code",
   "execution_count": 13,
   "metadata": {},
   "outputs": [
    {
     "name": "stdout",
     "output_type": "stream",
     "text": [
      "Result is:\n",
      " ['KIGDOM', 'SQUID GAME', 'SEE', 'GAME OF THRONES', 'VIKINGS', 'PEAKY BLINDERS', 'THE QUEENS GAMBIT', 'DELHI CRIME', 'BREATHE(HINDI)', 'BREAKING BAD', 'CHERNOBYL', 'THE NIGHT OF', 'PATRICK MELROSE', 'WALKING DEAD', 'RICK & MORTY', 'MORTAL WOUND', 'MOANA', 'SOLAR OPPOSITES', 'SOUL', 'MONSTERS UNIVERSITY', 'MONEY HEIST', 'GOBLIN', 'WISH DRAGON', 'MINIONS', 'THE MITCHELLS VS. THE MACHINES', 'MR. QUEEN', 'DEXTER', 'SHAMELESS', 'MR. ROBOT', 'MONSTERS, INC.', 'HANNIBAL', 'THE WITCHER', 'LUCIFER', 'DARK', 'BETTER CALL SAUL', 'THE 100', 'THE MAZE RUNNER', 'SHREK', 'TANGLED', 'PIRATES OF THE CARIBBEAN', 'COCO', 'ZOOTROPOLIS', 'SING', 'HOTEL TRANSYLVANIA', 'HARRY POTTER', 'PASTA', 'HEIRS', 'TWENTY', 'THE TWILIGHT SAGA', 'CHICKEN LITTLE']\n"
     ]
    }
   ],
   "source": [
    "capitalLetterItems = rdd.map(lambda x: x.upper()).collect()\n",
    "print(\"Result is:\\n\", capitalLetterItems)"
   ]
  },
  {
   "cell_type": "markdown",
   "metadata": {},
   "source": [
    "# Grouping items based on item's first letter by groupBy and map function"
   ]
  },
  {
   "cell_type": "code",
   "execution_count": 15,
   "metadata": {
    "scrolled": false
   },
   "outputs": [
    {
     "name": "stdout",
     "output_type": "stream",
     "text": [
      "Result is:\n",
      " [('B', ['Breathe(hindi)', 'Breaking Bad', 'Better call Saul']), ('H', ['Hannibal', 'Hotel Transylvania', 'Harry Potter', 'Heirs']), ('C', ['Chernobyl', 'Coco', 'Chicken Little']), ('W', ['Walking Dead', 'Wish Dragon']), ('R', ['Rick & Morty']), ('V', ['Vikings']), ('Z', ['Zootropolis']), ('K', ['Kigdom']), ('L', ['Lucifer']), ('T', ['The Queens Gambit', 'The Night Of', 'The Mitchells vs. the Machines', 'The Witcher', 'The 100', 'The Maze Runner', 'Tangled', 'Twenty', 'The Twilight Saga']), ('M', ['Mortal Wound', 'Moana', 'Monsters University', 'Money Heist', 'Minions', 'Mr. Queen', 'Mr. Robot', 'Monsters, Inc.']), ('S', ['Squid Game', 'See', 'Solar Opposites', 'Soul', 'Shameless', 'Shrek', 'Sing']), ('G', ['Game of Thrones', 'Goblin']), ('P', ['Peaky Blinders', 'Patrick Melrose', 'Pirates of the Caribbean', 'Pasta']), ('D', ['Delhi Crime', 'Dexter', 'Dark'])]\n"
     ]
    }
   ],
   "source": [
    "groupedItems = rdd.groupBy(lambda x: x[0]).map(lambda x: (x[0],list(x[1]))).collect()\n",
    "print(\"Result is:\\n\", groupedItems)"
   ]
  },
  {
   "cell_type": "markdown",
   "metadata": {},
   "source": [
    "# Converting Text to RDD and doing map reduce function"
   ]
  },
  {
   "cell_type": "code",
   "execution_count": 23,
   "metadata": {
    "scrolled": false
   },
   "outputs": [
    {
     "name": "stdout",
     "output_type": "stream",
     "text": [
      "Result is:\n",
      " [('The', 16), ('an', 1), ('airplane', 2), ('crashes', 1), ('in', 10), ('badly', 1), ('his', 18), ('leaves', 1), ('narrator', 9), ('very', 3), ('water.', 1), ('he', 26), ('is', 10), ('blond', 1), ('boy', 1), ('draw', 1), ('sheep.', 1), ('obliges,', 1), ('two', 3), ('become', 1), ('learns', 2), ('prince', 18), ('calls', 1), ('325', 1), ('but', 2), ('call', 1), ('B-612.', 1), ('took', 1), ('of', 12), ('this', 2), ('planet,', 1), ('preventing', 1), ('making', 2), ('sure', 1), ('was', 2), ('never', 1), ('overrun', 1), ('trees.', 1), ('One', 1), ('mysterious', 1), ('rose', 8), ('sprouted', 1), ('love', 3), ('it.', 1), ('But', 1), ('when', 2), ('caught', 1), ('lie', 1), ('decided', 2), ('her', 3), ('lonely', 2), ('leave.', 1), ('Despite', 2), ('reconciliation', 1), ('set', 2), ('out', 2), ('other', 1), ('planets', 2), ('cure', 1), ('loneliness.', 1), ('journeying,', 1), ('tells', 1), ('asteroids', 1), ('encounters', 2), ('world', 1), ('grown-ups.', 1), ('meets', 2), ('king,', 1), ('businessman,', 1), ('live', 1), ('are', 4), ('overly', 1), ('consumed', 1), ('occupations.', 1), ('Such', 1), ('strange', 1), ('behavior', 1), ('both', 1), ('perturbs', 1), ('prince.', 1), ('understand', 1), ('own', 1), ('everything.', 1), ('exception', 1), ('whose', 1), ('dogged', 1), ('admires,', 1), ('think', 1), ('anything', 1), ('useful.', 1), ('However,', 1), ('geographer', 1), ('flowers', 1), ('do', 2), ('last', 1), ('begins', 2), ('behind.', 1), ('At', 1), ('middle', 1), ('cannot', 2), ('speaks', 1), ('riddles', 1), ('darkly', 1), ('poison', 1), ('send', 1), ('heavens', 1), ('ignores', 1), ('continues', 1), ('explorations,', 1), ('stopping', 1), ('three-petaled', 1), ('flower', 1), ('climb', 1), ('tallest', 1), ('where', 1), ('echo', 1), ('conversation.', 1), ('Eventually,', 1), ('finds', 1), ('garden,', 1), ('surprises', 1), ('depresses', 1), ('him�his', 1), ('told', 1), ('only', 2), ('befriends', 1), ('fox,', 1), ('teaches', 1), ('things', 1), ('visible', 1), ('away', 2), ('more', 1), ('person', 1), ('responsible', 2), ('beings', 1), ('loves.', 1), ('that,', 1), ('even', 1), ('though', 1), ('there', 1), ('roses,', 1), ('feels', 1), ('far', 1), ('ends', 1), ('story', 1), ('men,', 1), ('salesclerk.', 1), ('It', 1), ('now', 2), ('at', 1), ('prince�s', 5), ('water', 1), ('as', 3), ('share', 1), ('truly', 1), ('life.', 1), ('however,', 2), ('head', 1), ('planet.', 1), ('able', 1), ('fix', 1), ('before', 1), ('arrival', 1), ('walks', 1), ('bites', 1), ('falls', 1), ('noiselessly', 1), ('asteroid.', 1), ('comforted', 1), ('stars,', 1), ('hears', 1), ('tinkling', 1), ('friend�s', 1), ('grows', 1), ('sad', 1), ('wonders', 1), ('sheep', 1), ('concludes', 1), ('showing', 1), ('readers', 1), ('drawing', 1), ('landscape', 1), ('us', 1), ('stop', 1), ('we', 1), ('ever', 1), ('area', 1), ('let', 1), ('know', 1), ('narrator,', 1), ('pilot,', 1), ('the', 65), ('Sahara', 1), ('desert.', 1), ('crash', 1), ('damages', 1), ('and', 29), ('with', 6), ('little', 18), ('food', 1), ('or', 1), ('As', 1), ('worrying', 1), ('over', 1), ('predicament,', 1), ('approached', 1), ('by', 8), ('prince,', 2), ('a', 23), ('serious', 1), ('who', 4), ('asks', 1), ('to', 23), ('him', 3), ('friends.', 1), ('pilot', 1), ('that', 14), ('comes', 1), ('from', 5), ('small', 1), ('planet', 2), ('Asteroid', 2), ('people', 3), ('on', 5), ('Earth', 1), ('great', 1), ('care', 1), ('any', 2), ('bad', 1), ('seeds', 1), ('growing', 1), ('it', 1), ('baobab', 1), ('day,', 2), ('fell', 1), ('one', 3), ('could', 1), ('not', 6), ('trust', 1), ('anymore.', 1), ('He', 2), ('grew', 1), ('last-minute', 1), ('rose,', 2), ('explore', 1), ('While', 1), ('us,', 1), ('passes', 1), ('neighboring', 1), ('for', 6), ('first', 2), ('time', 2), ('strange,', 1), ('narrow-minded', 1), ('On', 1), ('six', 1), ('visits,', 2), ('vain', 1), ('man,', 1), ('drunkard,', 1), ('lamplighter,', 2), ('geographer,', 1), ('all', 1), ('whom', 1), ('alone', 1), ('their', 4), ('chosen', 1), ('amuses', 1), ('does', 3), ('need', 1), ('order', 1), ('around,', 1), ('be', 1), ('admired,', 1), ('With', 1), ('faithfulness', 1), ('much', 2), ('adults', 1), ('learn', 1), ('forever,', 1), ('miss', 1), ('has', 4), ('left', 1), ('geographer�s', 1), ('suggestion,', 2), ('visits', 1), ('Earth,', 2), ('lands', 1), ('desert', 2), ('find', 3), ('humans.', 1), ('Instead,', 1), ('snake', 3), ('hints', 1), ('its', 1), ('lethal', 1), ('can', 2), ('back', 2), ('if', 4), ('so', 2), ('wishes.', 1), ('offer', 1), ('talk', 1), ('mountain', 1), ('find,', 1), ('confuses', 1), ('voice', 1), ('which', 2), ('had', 1), ('she', 1), ('kind.', 1), ('important', 2), ('life', 1), ('heart,', 1), ('makes', 3), ('special', 1), ('him,', 1), ('realizes', 1), ('many', 2), ('unique', 1), ('therefore', 1), ('her.', 1), ('revelation,', 1), ('still', 1), ('because', 1), ('rose.', 2), ('describing', 1), ('railway', 1), ('switchman', 1), ('narrator�s', 1), ('eighth', 1), ('day', 3), ('desert,', 1), ('they', 2), ('off', 1), ('well.', 1), ('feeds', 1), ('hearts', 1), ('bodies,', 1), ('moment', 1), ('bliss', 1), ('agree', 1), ('too', 1), ('see', 1), ('what', 1), ('mind,', 1), ('fixed', 1), ('returning', 1), ('plans', 1), ('plane', 1), ('one-year', 1), ('anniversary', 1), ('sadly', 1), ('friend', 1), ('place', 1), ('landed.', 1), ('sand.', 1), ('takes', 1), ('comfort', 1), ('body', 1), ('next', 1), ('confident', 1), ('returned', 1), ('also', 1), ('laughter.', 1), ('Often,', 1), ('drew', 1), ('eaten', 1), ('asking', 1), ('while', 1), ('under', 1), ('stars', 1), ('immediately', 1), ('returned.', 1)]\n"
     ]
    }
   ],
   "source": [
    "textRdd = sc.textFile(\"Data.txt\")\n",
    "textRddM = textRdd.flatMap(lambda x: x.split(' '))\n",
    "textRddM = textRddM.map(lambda x: (x,1))\n",
    "textRddM = textRddM.reduceByKey(lambda x,y: x+y)\n",
    "textRddM = textRddM.collect()\n",
    "print(\"Result is:\\n\", textRddM)"
   ]
  }
 ],
 "metadata": {
  "colab": {
   "collapsed_sections": [],
   "name": "Untitled0.ipynb",
   "provenance": []
  },
  "kernelspec": {
   "display_name": "Python 3 (ipykernel)",
   "language": "python",
   "name": "python3"
  },
  "language_info": {
   "codemirror_mode": {
    "name": "ipython",
    "version": 3
   },
   "file_extension": ".py",
   "mimetype": "text/x-python",
   "name": "python",
   "nbconvert_exporter": "python",
   "pygments_lexer": "ipython3",
   "version": "3.9.9"
  }
 },
 "nbformat": 4,
 "nbformat_minor": 1
}
